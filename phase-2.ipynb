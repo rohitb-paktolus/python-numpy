{
 "cells": [
  {
   "cell_type": "markdown",
   "id": "bee7d8c8",
   "metadata": {},
   "source": [
    "## Numpy Array operations"
   ]
  },
  {
   "cell_type": "code",
   "execution_count": 2,
   "id": "e99e049a",
   "metadata": {},
   "outputs": [],
   "source": [
    "import numpy as np"
   ]
  },
  {
   "cell_type": "code",
   "execution_count": 10,
   "id": "8e1f1f2f",
   "metadata": {},
   "outputs": [
    {
     "name": "stdout",
     "output_type": "stream",
     "text": [
      "Normal Array:  [ 0  1  2  3  4  5  6  7  8  9 10]\n",
      "Basic slicing \n",
      " [2 3 4 5 6]\n",
      "With step [1 3 5 7]\n",
      "Negative indexing 8\n"
     ]
    }
   ],
   "source": [
    "arr = np.arange(11)\n",
    "print(\"Normal Array: \",arr)\n",
    "print(\"Basic slicing \\n\",arr[2:7])\n",
    "print(\"With step\",arr[1:8:2])\n",
    "print(\"Negative indexing\", arr[-3])\n"
   ]
  },
  {
   "cell_type": "code",
   "execution_count": 13,
   "id": "595fd76b",
   "metadata": {},
   "outputs": [
    {
     "name": "stdout",
     "output_type": "stream",
     "text": [
      "Specific element  6\n",
      "Entire Row:  [4 5 6]\n",
      "Entire Colunm:  [2 5 8]\n"
     ]
    }
   ],
   "source": [
    "arr_2d = np.array([[1, 2, 3],\n",
    "                   [4, 5, 6],\n",
    "                   [7, 8, 9]])\n",
    "print(\"Specific element \",arr_2d[1, 2])\n",
    "print(\"Entire Row: \",arr_2d[1])\n",
    "print(\"Entire Colunm: \", arr_2d[:, 1])"
   ]
  },
  {
   "cell_type": "markdown",
   "id": "de47e314",
   "metadata": {},
   "source": [
    "### Sorting"
   ]
  },
  {
   "cell_type": "code",
   "execution_count": null,
   "id": "bcaff671",
   "metadata": {},
   "outputs": [
    {
     "name": "stdout",
     "output_type": "stream",
     "text": [
      "Sorted array:  [1 2 3 4 5 6 7 8 9]\n",
      "Sorted 2D array by column: \n",
      " [[1 1]\n",
      " [2 2]\n",
      " [3 3]]\n"
     ]
    }
   ],
   "source": [
    "unsorted = np.array([3, 5, 2, 9, 1, 6, 8, 4, 7])\n",
    "print(\"Sorted array: \", np.sort(unsorted))\n",
    "\n",
    "arr_2d_unsorted = np.array([[3, 1], [1, 2], [2, 3]])\n",
    "print(\"Sorted 2D array by column: \\n\", np.sort(arr_2d_unsorted, axis=0))\n"
   ]
  },
  {
   "cell_type": "markdown",
   "id": "b47a9131",
   "metadata": {},
   "source": [
    "### Filter"
   ]
  },
  {
   "cell_type": "code",
   "execution_count": 22,
   "id": "e25a9e2c",
   "metadata": {},
   "outputs": [
    {
     "name": "stdout",
     "output_type": "stream",
     "text": [
      "Even Numbers:  [ 2  4  6  8 10]\n"
     ]
    }
   ],
   "source": [
    "numbers = np.array([1,2,3,4,5,6,7,8,9,10])\n",
    "even_number = numbers[numbers % 2 == 0]\n",
    "print(\"Even Numbers: \", even_number)"
   ]
  },
  {
   "cell_type": "markdown",
   "id": "bfae65c4",
   "metadata": {},
   "source": [
    "### Filter with mask"
   ]
  },
  {
   "cell_type": "code",
   "execution_count": 24,
   "id": "bc03bb12",
   "metadata": {},
   "outputs": [
    {
     "name": "stdout",
     "output_type": "stream",
     "text": [
      "Numbers greater than 5:  [ 6  7  8  9 10]\n"
     ]
    }
   ],
   "source": [
    "mask = numbers > 5\n",
    "print(\"Numbers greater than 5: \",numbers[mask])"
   ]
  },
  {
   "cell_type": "markdown",
   "id": "724cdae2",
   "metadata": {},
   "source": [
    "## Fancy indexing vs np.where()"
   ]
  },
  {
   "cell_type": "code",
   "execution_count": 27,
   "id": "d8990d89",
   "metadata": {},
   "outputs": [
    {
     "name": "stdout",
     "output_type": "stream",
     "text": [
      "[1 3 5]\n",
      "(array([5, 6, 7, 8, 9]),)\n",
      "NP Where:  [ 6  7  8  9 10]\n"
     ]
    }
   ],
   "source": [
    "indices = [0, 2, 4]\n",
    "print(numbers[indices])\n",
    "\n",
    "where_result = np.where(numbers > 5)\n",
    "print(where_result)\n",
    "print(\"NP Where: \", numbers[where_result])"
   ]
  },
  {
   "cell_type": "code",
   "execution_count": 30,
   "id": "cf8e64ea",
   "metadata": {},
   "outputs": [
    {
     "name": "stdout",
     "output_type": "stream",
     "text": [
      "[ 1  2  3  4  5 12 14 16 18 20]\n"
     ]
    }
   ],
   "source": [
    "condition_array = np.where(numbers > 5, numbers*2,numbers)\n",
    "print(condition_array)"
   ]
  },
  {
   "cell_type": "code",
   "execution_count": null,
   "id": "3815bf1a",
   "metadata": {},
   "outputs": [],
   "source": []
  }
 ],
 "metadata": {
  "kernelspec": {
   "display_name": "venv",
   "language": "python",
   "name": "python3"
  },
  "language_info": {
   "codemirror_mode": {
    "name": "ipython",
    "version": 3
   },
   "file_extension": ".py",
   "mimetype": "text/x-python",
   "name": "python",
   "nbconvert_exporter": "python",
   "pygments_lexer": "ipython3",
   "version": "3.13.5"
  }
 },
 "nbformat": 4,
 "nbformat_minor": 5
}
