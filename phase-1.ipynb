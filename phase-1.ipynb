{
 "cells": [
  {
   "cell_type": "markdown",
   "id": "45538f7b",
   "metadata": {},
   "source": [
    "## Numpy array and basics\n",
    "Learn about numpy"
   ]
  },
  {
   "cell_type": "code",
   "execution_count": 4,
   "id": "6bfd424d",
   "metadata": {},
   "outputs": [],
   "source": [
    "import numpy as np"
   ]
  },
  {
   "cell_type": "markdown",
   "id": "0c876fcf",
   "metadata": {},
   "source": [
    "### Creating array from list"
   ]
  },
  {
   "cell_type": "code",
   "execution_count": 5,
   "id": "465d2c4f",
   "metadata": {},
   "outputs": [
    {
     "name": "stdout",
     "output_type": "stream",
     "text": [
      "1D array :  [1 2 3 4 5]\n",
      "2D array:  [[1 2 3]\n",
      " [4 5 6]]\n"
     ]
    }
   ],
   "source": [
    "arr_1d = np.array([1, 2, 3, 4, 5])\n",
    "print(\"1D array : \", arr_1d)\n",
    "\n",
    "arr_2d = np.array([[1, 2, 3],[4, 5, 6]])\n",
    "print(\"2D array: \",arr_2d) "
   ]
  },
  {
   "cell_type": "markdown",
   "id": "c941c154",
   "metadata": {},
   "source": [
    "### List vs numpy array"
   ]
  },
  {
   "cell_type": "code",
   "execution_count": 8,
   "id": "e3af4043",
   "metadata": {},
   "outputs": [
    {
     "name": "stdout",
     "output_type": "stream",
     "text": [
      "python list multiplication [1, 2, 3, 1, 2, 3]\n",
      "python array multiplication [2 4 6]\n",
      "\n",
      " List operation time:  0.03403902053833008\n",
      "\n",
      " Numpy operation time:  0.002492189407348633\n"
     ]
    }
   ],
   "source": [
    "py_list = [1, 2, 3]\n",
    "print(\"python list multiplication\", py_list * 2)\n",
    "\n",
    "np_array = np.array([1, 2, 3]) # element wise multiplication \n",
    "print(\"python array multiplication\", np_array * 2)\n",
    "\n",
    "import time\n",
    "\n",
    "start = time.time()\n",
    "\n",
    "py_list = [i*2 for i in range(1000000)]\n",
    "print(\"\\n List operation time: \",time.time()-start)\n",
    "\n",
    "start = time.time()\n",
    "np_array = np.arange(1000000)*2\n",
    "\n",
    "print(\"\\n Numpy operation time: \",time.time()-start)\n"
   ]
  },
  {
   "cell_type": "markdown",
   "id": "987d9e04",
   "metadata": {},
   "source": [
    "### Creating array from scratch\n"
   ]
  },
  {
   "cell_type": "code",
   "execution_count": null,
   "id": "ae82de5f",
   "metadata": {},
   "outputs": [
    {
     "name": "stdout",
     "output_type": "stream",
     "text": [
      "Zeros array: \n",
      " [[0. 0. 0. 0.]\n",
      " [0. 0. 0. 0.]\n",
      " [0. 0. 0. 0.]]\n",
      "One array: \n",
      "  [[1. 1. 1.]\n",
      " [1. 1. 1.]]\n",
      "Full array: \n",
      "  [[7 7]\n",
      " [7 7]]\n",
      "Random array:  [[0.62468936 0.57041575 0.52808164]\n",
      " [0.63452178 0.02775707 0.44121765]]\n",
      "Sequence array:  [0 2 4 6 8]\n"
     ]
    }
   ],
   "source": [
    "zeros = np.zeros((3, 4))\n",
    "\n",
    "print(\"Zeros array: \\n\", zeros)\n",
    "\n",
    "one = np.ones((2, 3))\n",
    "\n",
    "print(\"One array: \\n \",one)\n",
    "\n",
    "full = np.full((2,2),7)\n",
    "\n",
    "print(\"Full array: \\n \",full)\n",
    "\n",
    "random = np.random.random((2 ,3))\n",
    "\n",
    "print(\"Random array: \",random)\n",
    "\n",
    "sequence = np.arange(0, 10, 2)\n",
    "\n",
    "print(\"Sequence array: \",sequence)\n",
    "\n"
   ]
  },
  {
   "cell_type": "markdown",
   "id": "eab38e58",
   "metadata": {},
   "source": [
    "### Vector, Matrix and Tensor"
   ]
  },
  {
   "cell_type": "code",
   "execution_count": 23,
   "id": "4a4a9e39",
   "metadata": {},
   "outputs": [
    {
     "name": "stdout",
     "output_type": "stream",
     "text": [
      "Vector:  [1 2 3]\n",
      "Matrix :  [[1 2 3]\n",
      " [4 5 6]]\n",
      "Tensor:  [[[1 2]\n",
      "  [3 4]]\n",
      "\n",
      " [[5 6]\n",
      "  [7 8]]]\n"
     ]
    }
   ],
   "source": [
    "vector = np.array([1, 2, 3])\n",
    "print(\"Vector: \",vector)\n",
    "\n",
    "matrix = np.array([[1, 2, 3],\n",
    "                   [4, 5, 6]])\n",
    "\n",
    "print(\"Matrix : \",matrix)\n",
    "\n",
    "tensor = np.array([[[1, 2],[3, 4]],\n",
    "                   [[5, 6],[7, 8]]])\n",
    "\n",
    "print(\"Tensor: \",tensor)"
   ]
  },
  {
   "cell_type": "markdown",
   "id": "46fdd2ed",
   "metadata": {},
   "source": [
    "### Array Properties"
   ]
  },
  {
   "cell_type": "code",
   "execution_count": 28,
   "id": "c3222a64",
   "metadata": {},
   "outputs": [
    {
     "name": "stdout",
     "output_type": "stream",
     "text": [
      "Shape  (2, 3)\n",
      "Dimension  2\n",
      "Size  6\n",
      "Dtype  int64\n"
     ]
    }
   ],
   "source": [
    "arr = np.array([[1, 2, 3],\n",
    "                [4, 5, 6]])\n",
    "print(\"Shape \", arr.shape)\n",
    "print(\"Dimension \",arr.ndim)\n",
    "print(\"Size \", arr.size)\n",
    "print(\"Dtype \",arr.dtype)"
   ]
  },
  {
   "cell_type": "markdown",
   "id": "ba49ab17",
   "metadata": {},
   "source": [
    "### Array Reshaping"
   ]
  },
  {
   "cell_type": "code",
   "execution_count": 38,
   "id": "5d594dfb",
   "metadata": {},
   "outputs": [
    {
     "name": "stdout",
     "output_type": "stream",
     "text": [
      "Original array  [ 0  1  2  3  4  5  6  7  8  9 10 11]\n",
      "Reshaped array \n",
      " [[ 0  1  2  3]\n",
      " [ 4  5  6  7]\n",
      " [ 8  9 10 11]]\n",
      "Flattened array: \n",
      " [ 0  1  2  3  4  5  6  7  8  9 10 11]\n",
      "Raveled \n",
      " [ 0  1  2  3  4  5  6  7  8  9 10 11]\n",
      "Transpose array \n",
      " [[ 0  4  8]\n",
      " [ 1  5  9]\n",
      " [ 2  6 10]\n",
      " [ 3  7 11]]\n"
     ]
    }
   ],
   "source": [
    "arr = np.arange(12)\n",
    "print(\"Original array \", arr)\n",
    "\n",
    "reshaped = arr.reshape((3, 4))\n",
    "print(\"Reshaped array \\n\", reshaped)\n",
    "\n",
    "flattened = reshaped.flatten()\n",
    "print(\"Flattened array: \\n\",flattened)\n",
    "\n",
    "# ravel (return view, instead of copy)\n",
    "raveled = reshaped.ravel()\n",
    "print(\"Raveled \\n\",raveled) \n",
    "\n",
    "# Transpose Matrix\n",
    "\n",
    "transpose = reshaped.T\n",
    "print(\"Transpose array \\n\", transpose)\n",
    "\n",
    "\n"
   ]
  }
 ],
 "metadata": {
  "kernelspec": {
   "display_name": "venv",
   "language": "python",
   "name": "python3"
  },
  "language_info": {
   "codemirror_mode": {
    "name": "ipython",
    "version": 3
   },
   "file_extension": ".py",
   "mimetype": "text/x-python",
   "name": "python",
   "nbconvert_exporter": "python",
   "pygments_lexer": "ipython3",
   "version": "3.13.5"
  }
 },
 "nbformat": 4,
 "nbformat_minor": 5
}
